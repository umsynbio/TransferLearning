{
  "cells": [
    {
      "cell_type": "markdown",
      "id": "5a131bcd",
      "metadata": {},
      "source": [
        "[![Open in Colab](https://colab.research.google.com/assets/colab-badge.svg)](https://colab.research.google.com/github/umsynbio/TransferLearning/blob/main/transfer_learning.ipynb)"
      ]
    },
    {
      "cell_type": "code",
      "execution_count": 9,
      "id": "9c0b63d4",
      "metadata": {
        "id": "9c0b63d4"
      },
      "outputs": [],
      "source": [
        "import torch\n",
        "import torch.nn as nn\n",
        "import torch.optim as optim\n",
        "from torchvision import datasets, transforms, models\n",
        "from torch.utils.data import DataLoader"
      ]
    },
    {
      "cell_type": "code",
      "execution_count": 10,
      "id": "364b85b8",
      "metadata": {
        "colab": {
          "base_uri": "https://localhost:8080/"
        },
        "id": "364b85b8",
        "outputId": "292c921c-aa45-46df-a58f-25ae55963b33"
      },
      "outputs": [
        {
          "name": "stdout",
          "output_type": "stream",
          "text": [
            "mps\n"
          ]
        }
      ],
      "source": [
        "# Device configuration\n",
        "device = torch.device('cuda' if torch.cuda.is_available() else 'mps' if torch.mps.is_available() else 'cpu')\n",
        "\n",
        "print(device)\n"
      ]
    },
    {
      "cell_type": "code",
      "execution_count": 11,
      "id": "99eb2b8e",
      "metadata": {
        "id": "99eb2b8e"
      },
      "outputs": [],
      "source": [
        "transform = transforms.Compose([\n",
        "    transforms.Resize((224, 224)),  # VGG19 expects 224x224\n",
        "    transforms.ToTensor(),\n",
        "    transforms.Normalize(mean=[0.485, 0.456, 0.406],\n",
        "                         std=[0.229, 0.224, 0.225])\n",
        "])"
      ]
    },
    {
      "cell_type": "code",
      "execution_count": 12,
      "id": "6d2ef94d",
      "metadata": {
        "colab": {
          "base_uri": "https://localhost:8080/"
        },
        "id": "6d2ef94d",
        "outputId": "3a9f55cc-dc3c-4e17-9462-70f4dc41d182"
      },
      "outputs": [],
      "source": [
        "\n",
        "# CIFAR-10 Dataset\n",
        "train_dataset = datasets.CIFAR10(root='./data', train=True, download=True, transform=transform)\n",
        "train_loader = DataLoader(train_dataset, batch_size=128, shuffle=True)\n"
      ]
    },
    {
      "cell_type": "code",
      "execution_count": 13,
      "id": "a7de2249",
      "metadata": {
        "colab": {
          "base_uri": "https://localhost:8080/"
        },
        "id": "a7de2249",
        "outputId": "67dccee1-05c7-4f38-f3ba-0abf4b786702"
      },
      "outputs": [],
      "source": [
        "# pretrained vgg 19\n",
        "vgg19 = models.vgg19(weights= models.VGG19_Weights.IMAGENET1K_V1)\n"
      ]
    },
    {
      "cell_type": "code",
      "execution_count": 14,
      "id": "zgHxofJan84_",
      "metadata": {
        "id": "zgHxofJan84_"
      },
      "outputs": [],
      "source": [
        "for param in vgg19.features.parameters():\n",
        "    param.requires_grad = False"
      ]
    },
    {
      "cell_type": "code",
      "execution_count": 15,
      "id": "bf827523",
      "metadata": {
        "id": "bf827523"
      },
      "outputs": [],
      "source": [
        "# Replace the final classifier layer for 10 CIFAR classes\n",
        "vgg19.classifier[6] = nn.Linear(in_features=4096, out_features=10)\n",
        "vgg19 = vgg19.to(device)"
      ]
    },
    {
      "cell_type": "code",
      "execution_count": 16,
      "id": "b373514a",
      "metadata": {
        "id": "b373514a"
      },
      "outputs": [],
      "source": [
        "# Loss and optimizer\n",
        "criterion = nn.CrossEntropyLoss()\n",
        "optimizer = optim.Adam(vgg19.parameters(), lr=1e-4)\n"
      ]
    },
    {
      "cell_type": "code",
      "execution_count": 19,
      "id": "er8v-nN8oXNX",
      "metadata": {
        "colab": {
          "base_uri": "https://localhost:8080/",
          "height": 272
        },
        "id": "er8v-nN8oXNX",
        "outputId": "65845e20-224a-4606-c379-9db109b81a8f"
      },
      "outputs": [
        {
          "data": {
            "text/html": [],
            "text/plain": [
              "<IPython.core.display.HTML object>"
            ]
          },
          "metadata": {},
          "output_type": "display_data"
        },
        {
          "data": {
            "text/html": [
              " View run <strong style=\"color:#cdcd00\">fresh-fog-6</strong> at: <a href='https://wandb.ai/zeri-university-of-michigan/vgg19-cifar10/runs/32ki5iwd' target=\"_blank\">https://wandb.ai/zeri-university-of-michigan/vgg19-cifar10/runs/32ki5iwd</a><br> View project at: <a href='https://wandb.ai/zeri-university-of-michigan/vgg19-cifar10' target=\"_blank\">https://wandb.ai/zeri-university-of-michigan/vgg19-cifar10</a><br>Synced 5 W&B file(s), 0 media file(s), 0 artifact file(s) and 0 other file(s)"
            ],
            "text/plain": [
              "<IPython.core.display.HTML object>"
            ]
          },
          "metadata": {},
          "output_type": "display_data"
        },
        {
          "data": {
            "text/html": [
              "Find logs at: <code>./wandb/run-20250409_162822-32ki5iwd/logs</code>"
            ],
            "text/plain": [
              "<IPython.core.display.HTML object>"
            ]
          },
          "metadata": {},
          "output_type": "display_data"
        },
        {
          "data": {
            "text/html": [
              "Tracking run with wandb version 0.19.9"
            ],
            "text/plain": [
              "<IPython.core.display.HTML object>"
            ]
          },
          "metadata": {},
          "output_type": "display_data"
        },
        {
          "data": {
            "text/html": [
              "Run data is saved locally in <code>/Users/matcha/Code/TransferLearning/wandb/run-20250409_162839-ybdwa69c</code>"
            ],
            "text/plain": [
              "<IPython.core.display.HTML object>"
            ]
          },
          "metadata": {},
          "output_type": "display_data"
        },
        {
          "data": {
            "text/html": [
              "Syncing run <strong><a href='https://wandb.ai/zeri-university-of-michigan/vgg19-cifar10/runs/ybdwa69c' target=\"_blank\">snowy-disco-7</a></strong> to <a href='https://wandb.ai/zeri-university-of-michigan/vgg19-cifar10' target=\"_blank\">Weights & Biases</a> (<a href='https://wandb.me/developer-guide' target=\"_blank\">docs</a>)<br>"
            ],
            "text/plain": [
              "<IPython.core.display.HTML object>"
            ]
          },
          "metadata": {},
          "output_type": "display_data"
        },
        {
          "data": {
            "text/html": [
              " View project at <a href='https://wandb.ai/zeri-university-of-michigan/vgg19-cifar10' target=\"_blank\">https://wandb.ai/zeri-university-of-michigan/vgg19-cifar10</a>"
            ],
            "text/plain": [
              "<IPython.core.display.HTML object>"
            ]
          },
          "metadata": {},
          "output_type": "display_data"
        },
        {
          "data": {
            "text/html": [
              " View run at <a href='https://wandb.ai/zeri-university-of-michigan/vgg19-cifar10/runs/ybdwa69c' target=\"_blank\">https://wandb.ai/zeri-university-of-michigan/vgg19-cifar10/runs/ybdwa69c</a>"
            ],
            "text/plain": [
              "<IPython.core.display.HTML object>"
            ]
          },
          "metadata": {},
          "output_type": "display_data"
        }
      ],
      "source": [
        "import wandb\n",
        "\n",
        "# Initialize wandb\n",
        "wandb.init(project=\"vgg19-cifar10\")\n",
        "\n",
        "# Watch the model to log gradients and parameters\n",
        "wandb.watch(vgg19, log=\"all\")\n"
      ]
    },
    {
      "cell_type": "code",
      "execution_count": 20,
      "id": "dfaedc48",
      "metadata": {
        "colab": {
          "base_uri": "https://localhost:8080/",
          "height": 441
        },
        "id": "dfaedc48",
        "outputId": "7e9a6593-d4cd-4e15-ccc1-4fdd8ec29209"
      },
      "outputs": [
        {
          "ename": "KeyboardInterrupt",
          "evalue": "",
          "output_type": "error",
          "traceback": [
            "\u001b[31m---------------------------------------------------------------------------\u001b[39m",
            "\u001b[31mKeyboardInterrupt\u001b[39m                         Traceback (most recent call last)",
            "\u001b[36mCell\u001b[39m\u001b[36m \u001b[39m\u001b[32mIn[20]\u001b[39m\u001b[32m, line 19\u001b[39m\n\u001b[32m     16\u001b[39m     loss.backward()\n\u001b[32m     17\u001b[39m     optimizer.step()\n\u001b[32m---> \u001b[39m\u001b[32m19\u001b[39m     running_loss += \u001b[43mloss\u001b[49m\u001b[43m.\u001b[49m\u001b[43mitem\u001b[49m\u001b[43m(\u001b[49m\u001b[43m)\u001b[49m\n\u001b[32m     21\u001b[39m epoch_loss = running_loss / \u001b[38;5;28mlen\u001b[39m(train_loader)\n\u001b[32m     22\u001b[39m \u001b[38;5;28mprint\u001b[39m(\u001b[33mf\u001b[39m\u001b[33m\"\u001b[39m\u001b[33mEpoch [\u001b[39m\u001b[38;5;132;01m{\u001b[39;00mepoch+\u001b[32m1\u001b[39m\u001b[38;5;132;01m}\u001b[39;00m\u001b[33m/\u001b[39m\u001b[38;5;132;01m{\u001b[39;00mepochs\u001b[38;5;132;01m}\u001b[39;00m\u001b[33m], Loss: \u001b[39m\u001b[38;5;132;01m{\u001b[39;00mepoch_loss\u001b[38;5;132;01m:\u001b[39;00m\u001b[33m.4f\u001b[39m\u001b[38;5;132;01m}\u001b[39;00m\u001b[33m\"\u001b[39m)\n",
            "\u001b[31mKeyboardInterrupt\u001b[39m: "
          ]
        }
      ],
      "source": [
        "\n",
        "epochs = 4\n",
        "\n",
        "# Training loop\n",
        "vgg19.train()\n",
        "for epoch in range(epochs):\n",
        "    running_loss = 0.0\n",
        "    for images, labels in train_loader:\n",
        "        images, labels = images.to(device), labels.to(device)\n",
        "\n",
        "        # Forward pass\n",
        "        outputs = vgg19(images)\n",
        "        loss = criterion(outputs, labels)\n",
        "\n",
        "        # Backward and optimize\n",
        "        optimizer.zero_grad()\n",
        "        loss.backward()\n",
        "        optimizer.step()\n",
        "\n",
        "        running_loss += loss.item()\n",
        "\n",
        "    epoch_loss = running_loss / len(train_loader)\n",
        "    print(f\"Epoch [{epoch+1}/{epochs}], Loss: {epoch_loss:.4f}\")\n",
        "\n",
        "    # Log to wandb\n",
        "    wandb.log({\"epoch\": epoch+1, \"loss\": epoch_loss})\n",
        "\n",
        "# Save the model weights\n",
        "model_path = 'vgg19_cifar10.pth'\n",
        "torch.save(vgg19.state_dict(), model_path)\n",
        "print(\"Training complete. Model saved.\")\n",
        "\n",
        "# log the model file\n",
        "wandb.save(model_path)\n",
        "\n",
        "# Finish wandb run\n",
        "# wandb.finish()"
      ]
    },
    {
      "cell_type": "code",
      "execution_count": null,
      "id": "x62_Ho0IOEpd",
      "metadata": {
        "id": "x62_Ho0IOEpd"
      },
      "outputs": [],
      "source": [
        "validation_dataset = datasets.CIFAR10(root='./data', train=False, download=True, transform=transform)\n",
        "validation_loader = DataLoader(validation_dataset, batch_size=128, shuffle=False)\n",
        "\n",
        "\n",
        "vgg19.eval()\n",
        "correct = 0\n",
        "total = 0\n",
        "with torch.no_grad():\n",
        "    for images, labels in validation_loader:\n",
        "        images, labels = images.to(device), labels.to(device)\n",
        "        outputs = vgg19(images)\n",
        "        _, predicted = torch.max(outputs.data, 1)\n",
        "        total += labels.size(0)\n",
        "        correct += (predicted == labels).sum().item()\n",
        "\n",
        "accuracy = 100 * correct / total\n",
        "print(f\"Validation Accuracy: {accuracy:.2f}%\")\n",
        "\n",
        "try:\n",
        "  wandb.log({\"validation_accuracy\": accuracy})\n",
        "except:\n",
        "  print(\"Wandb is not initialized. Cannot log validation accuracy.\")\n"
      ]
    }
  ],
  "metadata": {
    "accelerator": "GPU",
    "colab": {
      "gpuType": "T4",
      "provenance": []
    },
    "kernelspec": {
      "display_name": "msbt",
      "language": "python",
      "name": "python3"
    },
    "language_info": {
      "codemirror_mode": {
        "name": "ipython",
        "version": 3
      },
      "file_extension": ".py",
      "mimetype": "text/x-python",
      "name": "python",
      "nbconvert_exporter": "python",
      "pygments_lexer": "ipython3",
      "version": "3.12.9"
    }
  },
  "nbformat": 4,
  "nbformat_minor": 5
}
